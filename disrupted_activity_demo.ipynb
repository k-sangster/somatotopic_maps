{
 "cells": [
  {
   "cell_type": "code",
   "execution_count": null,
   "metadata": {},
   "outputs": [],
   "source": [
    "import pyabc\n",
    "import numpy as np\n",
    "import pandas as pd\n",
    "import matplotlib.pyplot as plt\n",
    "from koulakov_based_model import DH_ST_Model\n",
    "from pyabc_koulakov import model_all_conditions, distance_all_conditions_full, PRIORS_ALL_CONDITIONS\n",
    "\n",
    "abc = pyabc.ABCSMC(\n",
    "    models = model_all_conditions,\n",
    "    distance_function=distance_all_conditions_full,\n",
    "    parameter_priors=PRIORS_ALL_CONDITIONS,\n",
    "    transitions=pyabc.transition.LocalTransition()\n",
    ")\n",
    "\n",
    "db_path = f\"pyabc_runs/pyabc_output.db\"\n",
    "history = abc.load(\"sqlite:///\" + db_path)\n",
    "df, weights = history.get_distribution(m=0, t=history.max_t)\n",
    "epsilons = np.array(history.get_weighted_distances()[\"distance\"])\n",
    "parameters = df.iloc[epsilons.argmin()].to_dict()"
   ]
  },
  {
   "cell_type": "code",
   "execution_count": null,
   "metadata": {},
   "outputs": [],
   "source": [
    "# normal\n",
    "model = DH_ST_Model(\n",
    "    dh_dims=(50, 1),\n",
    "    steps_per_axon=500,\n",
    "    **parameters\n",
    ")\n",
    "model.run()\n",
    "model.energy_history_plot()\n",
    "model.n_synapse_history_plot()\n",
    "model.correlation_plots()"
   ]
  },
  {
   "cell_type": "code",
   "execution_count": null,
   "metadata": {},
   "outputs": [],
   "source": [
    "# disrupted activity\n",
    "parameters_disrupted = parameters.copy()\n",
    "parameters_disrupted[\"gamma\"] = parameters[\"gamma\"] * 0.20  # assume 80% reduction in activity-dependent refinement\n",
    "\n",
    "model = DH_ST_Model(\n",
    "    dh_dims=(50, 1),\n",
    "    steps_per_axon=500,\n",
    "    **parameters_disrupted\n",
    ")\n",
    "model.run()\n",
    "model.energy_history_plot()\n",
    "model.n_synapse_history_plot()\n",
    "model.correlation_plots()"
   ]
  }
 ],
 "metadata": {
  "kernelspec": {
   "display_name": "topographic_maps",
   "language": "python",
   "name": "python3"
  },
  "language_info": {
   "codemirror_mode": {
    "name": "ipython",
    "version": 3
   },
   "file_extension": ".py",
   "mimetype": "text/x-python",
   "name": "python",
   "nbconvert_exporter": "python",
   "pygments_lexer": "ipython3",
   "version": "3.13.5"
  }
 },
 "nbformat": 4,
 "nbformat_minor": 2
}
