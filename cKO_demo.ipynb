{
 "cells": [
  {
   "cell_type": "code",
   "execution_count": null,
   "metadata": {},
   "outputs": [],
   "source": [
    "import pyabc\n",
    "import numpy as np\n",
    "import pandas as pd\n",
    "import matplotlib.pyplot as plt\n",
    "from koulakov_based_model import DH_ST_Model\n",
    "from pyabc_koulakov import model_all_conditions, distance_all_conditions_full, PRIORS_ALL_CONDITIONS\n",
    "from koulakov_experiments import run_all_conditions, plot_label_profiles, plot_vs_observed\n",
    "from data import OBSERVED_PROFILES\n",
    "\n",
    "abc = pyabc.ABCSMC(\n",
    "    models = model_all_conditions,\n",
    "    distance_function=distance_all_conditions_full,\n",
    "    parameter_priors=PRIORS_ALL_CONDITIONS,\n",
    "    transitions=pyabc.transition.LocalTransition()\n",
    ")\n",
    "\n",
    "db_path = f\"pyabc_runs/pyabc_output.db\"\n",
    "history = abc.load(\"sqlite:///\" + db_path)\n",
    "df, weights = history.get_distribution(m=0, t=history.max_t)\n",
    "epsilons = np.array(history.get_weighted_distances()[\"distance\"])\n",
    "parameters = df.iloc[epsilons.argmin()].to_dict()"
   ]
  },
  {
   "cell_type": "code",
   "execution_count": null,
   "metadata": {},
   "outputs": [],
   "source": [
    "parameters[\"steps_per_axon\"] = 500\n",
    "parameters[\"dh_dims\"] = (50, 1)\n",
    "models = run_all_conditions(parameters, n_repeats=10)\n",
    "\n",
    "# plot the results\n",
    "plot_label_profiles(models, \"Distal\", [Conditions.WT, Conditions.LPHN2_DRG_KO, Conditions.TEN3_DH_KO])\n",
    "plot_label_profiles(models, \"Proximal\", [Conditions.WT, Conditions.TEN3_DRG_KO, Conditions.LPHN2_DH_KO, Conditions.TEN3_DH_KO])"
   ]
  }
 ],
 "metadata": {
  "kernelspec": {
   "display_name": "topographic_maps",
   "language": "python",
   "name": "python3"
  },
  "language_info": {
   "codemirror_mode": {
    "name": "ipython",
    "version": 3
   },
   "file_extension": ".py",
   "mimetype": "text/x-python",
   "name": "python",
   "nbconvert_exporter": "python",
   "pygments_lexer": "ipython3",
   "version": "3.13.5"
  }
 },
 "nbformat": 4,
 "nbformat_minor": 2
}
